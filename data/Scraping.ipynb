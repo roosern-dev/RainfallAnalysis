{
 "cells": [
  {
   "cell_type": "markdown",
   "id": "c7aadd0f",
   "metadata": {},
   "source": [
    "# Load libraries"
   ]
  },
  {
   "cell_type": "code",
   "execution_count": 1,
   "id": "8a973e53",
   "metadata": {},
   "outputs": [],
   "source": [
    "import pandas as pd\n",
    "from bs4 import BeautifulSoup\n",
    "import requests\n",
    "from datetime import datetime"
   ]
  },
  {
   "cell_type": "code",
   "execution_count": 2,
   "id": "80c5dd04",
   "metadata": {},
   "outputs": [
    {
     "name": "stderr",
     "output_type": "stream",
     "text": [
      "C:\\Users\\ryeoh\\Anaconda3\\envs\\forwardSchool\\lib\\site-packages\\urllib3\\connectionpool.py:1013: InsecureRequestWarning: Unverified HTTPS request is being made to host 'publicinfobanjir.water.gov.my'. Adding certificate verification is strongly advised. See: https://urllib3.readthedocs.io/en/1.26.x/advanced-usage.html#ssl-warnings\n",
      "  warnings.warn(\n"
     ]
    }
   ],
   "source": [
    "#get the data source to scrape\n",
    "url = r\"https://publicinfobanjir.water.gov.my/hujan/data-hujan/?lang=en\"\n",
    "webpage = requests.get(url, verify=False)"
   ]
  },
  {
   "cell_type": "markdown",
   "id": "bc3066e2",
   "metadata": {},
   "source": [
    "# Get States"
   ]
  },
  {
   "cell_type": "code",
   "execution_count": 3,
   "id": "2393a02d",
   "metadata": {},
   "outputs": [],
   "source": [
    "#Find all the states, and the options\n",
    "bs = BeautifulSoup(webpage.content, 'html.parser')\n",
    "states = bs.find('select', {'id':'state'}).find_all('option')\n",
    "statesDict = {}\n",
    "for state in states:\n",
    "    stateName = state.text.strip()\n",
    "    if stateName not in statesDict:\n",
    "        stateCode = state['value'].strip()\n",
    "        if stateCode == '':\n",
    "            continue\n",
    "        statesDict[stateName] = stateCode"
   ]
  },
  {
   "cell_type": "code",
   "execution_count": 4,
   "id": "efc00d3e",
   "metadata": {},
   "outputs": [
    {
     "name": "stdout",
     "output_type": "stream",
     "text": [
      "{'Perlis': 'PLS', 'Kedah': 'KDH', 'Pulau Pinang': 'PNG', 'Perak': 'PRK', 'Selangor': 'SEL', 'Wilayah Persekutuan Kuala Lumpur': 'WLH', 'Wilayah Persekutuan Putrajaya': 'PTJ', 'Negeri Sembilan': 'NSN', 'Melaka': 'MLK', 'Johor': 'JHR', 'Pahang': 'PHG', 'Terengganu': 'TRG', 'Kelantan': 'KEL', 'Sarawak': 'SRK', 'Sabah': 'SAB', 'Wilayah Persekutuan Labuan': 'WLP'}\n"
     ]
    }
   ],
   "source": [
    "print(statesDict)\n"
   ]
  },
  {
   "cell_type": "markdown",
   "id": "82183e85",
   "metadata": {},
   "source": [
    "# Get data of each state"
   ]
  },
  {
   "cell_type": "code",
   "execution_count": 28,
   "id": "e240ae71",
   "metadata": {},
   "outputs": [],
   "source": [
    "#function to scrape rainfall data\n",
    "def getStateRainFallData(url, stateCode, state, district, station):\n",
    "    print(stateCode)\n",
    "    #get the table from url\n",
    "    stateDataUrl = requests.get(url, params = {'state':stateCode, 'district':district, 'station':station}, verify= False)\n",
    "    bs = BeautifulSoup(stateDataUrl.content, 'html5lib')\n",
    "    #print(bs)\n",
    "\n",
    "    #get dates of recorded rainfall\n",
    "    tableHead = bs.find('thead').find_all('th', {'style':\"background-color:#aed9e5; color:black; padding:5px;\"})\n",
    "    rainfallDates = [*map(lambda x: x.text, tableHead)]\n",
    "    rainfallDates\n",
    "    rainfallDates = [*map(lambda x: datetime.strptime(x, r'%d/%m/%Y'), rainfallDates)]\n",
    "    \n",
    "    #get data for each station\n",
    "    dataEntries = bs.find('tbody').find_all('tr')\n",
    "    dataTable = []\n",
    "    \n",
    "    #get every row of data\n",
    "    for dataEntry in dataEntries:\n",
    "        if(len(dataEntry.contents)==0):\n",
    "            continue\n",
    "        cols = dataEntry.find_all('td')\n",
    "        \n",
    "        #format the data columns\n",
    "        stationCode = cols[1].text\n",
    "        station = cols[2].text\n",
    "        district = cols[3].text\n",
    "        dateStartCol = 5\n",
    "        dateEndCol = dateStartCol + len(rainfallDates)\n",
    "        \n",
    "        #get the data for each day in table\n",
    "        for dateEntry in range(len(rainfallDates)):\n",
    "            dataExtracted = {'stateCode': stateCode, 'state': state, 'stationCode': stationCode, 'station':station, 'district':district, 'date':rainfallDates[dateEntry], 'rainfall':cols[dateStartCol + dateEntry].text}\n",
    "            dataTable.append(dataExtracted)\n",
    "            \n",
    "    return dataTable\n",
    "        \n",
    "        \n",
    "    '''\n",
    "    for dataEntry in dataEntries:\n",
    "        cols = dataEntry.find_all('td')\n",
    "        print(cols)\n",
    "    '''\n",
    "    \n",
    "    \n",
    "    rainfallDates\n",
    "    #dataEntry = table.find('tbody')\n",
    "    #print(dataEntry)\n",
    "        "
   ]
  },
  {
   "cell_type": "code",
   "execution_count": 29,
   "id": "0b2b8f87",
   "metadata": {},
   "outputs": [
    {
     "name": "stdout",
     "output_type": "stream",
     "text": [
      "Perlis\n",
      "PLS\n",
      "Kedah\n",
      "KDH\n"
     ]
    },
    {
     "name": "stderr",
     "output_type": "stream",
     "text": [
      "C:\\Users\\ryeoh\\Anaconda3\\envs\\forwardSchool\\lib\\site-packages\\urllib3\\connectionpool.py:1013: InsecureRequestWarning: Unverified HTTPS request is being made to host 'publicinfobanjir.water.gov.my'. Adding certificate verification is strongly advised. See: https://urllib3.readthedocs.io/en/1.26.x/advanced-usage.html#ssl-warnings\n",
      "  warnings.warn(\n",
      "C:\\Users\\ryeoh\\Anaconda3\\envs\\forwardSchool\\lib\\site-packages\\urllib3\\connectionpool.py:1013: InsecureRequestWarning: Unverified HTTPS request is being made to host 'publicinfobanjir.water.gov.my'. Adding certificate verification is strongly advised. See: https://urllib3.readthedocs.io/en/1.26.x/advanced-usage.html#ssl-warnings\n",
      "  warnings.warn(\n"
     ]
    },
    {
     "name": "stdout",
     "output_type": "stream",
     "text": [
      "Pulau Pinang\n",
      "PNG\n",
      "Perak\n",
      "PRK\n"
     ]
    },
    {
     "name": "stderr",
     "output_type": "stream",
     "text": [
      "C:\\Users\\ryeoh\\Anaconda3\\envs\\forwardSchool\\lib\\site-packages\\urllib3\\connectionpool.py:1013: InsecureRequestWarning: Unverified HTTPS request is being made to host 'publicinfobanjir.water.gov.my'. Adding certificate verification is strongly advised. See: https://urllib3.readthedocs.io/en/1.26.x/advanced-usage.html#ssl-warnings\n",
      "  warnings.warn(\n",
      "C:\\Users\\ryeoh\\Anaconda3\\envs\\forwardSchool\\lib\\site-packages\\urllib3\\connectionpool.py:1013: InsecureRequestWarning: Unverified HTTPS request is being made to host 'publicinfobanjir.water.gov.my'. Adding certificate verification is strongly advised. See: https://urllib3.readthedocs.io/en/1.26.x/advanced-usage.html#ssl-warnings\n",
      "  warnings.warn(\n"
     ]
    },
    {
     "name": "stdout",
     "output_type": "stream",
     "text": [
      "Selangor\n",
      "SEL\n",
      "Wilayah Persekutuan Kuala Lumpur\n",
      "WLH\n"
     ]
    },
    {
     "name": "stderr",
     "output_type": "stream",
     "text": [
      "C:\\Users\\ryeoh\\Anaconda3\\envs\\forwardSchool\\lib\\site-packages\\urllib3\\connectionpool.py:1013: InsecureRequestWarning: Unverified HTTPS request is being made to host 'publicinfobanjir.water.gov.my'. Adding certificate verification is strongly advised. See: https://urllib3.readthedocs.io/en/1.26.x/advanced-usage.html#ssl-warnings\n",
      "  warnings.warn(\n",
      "C:\\Users\\ryeoh\\Anaconda3\\envs\\forwardSchool\\lib\\site-packages\\urllib3\\connectionpool.py:1013: InsecureRequestWarning: Unverified HTTPS request is being made to host 'publicinfobanjir.water.gov.my'. Adding certificate verification is strongly advised. See: https://urllib3.readthedocs.io/en/1.26.x/advanced-usage.html#ssl-warnings\n",
      "  warnings.warn(\n"
     ]
    },
    {
     "name": "stdout",
     "output_type": "stream",
     "text": [
      "Wilayah Persekutuan Putrajaya\n",
      "PTJ\n",
      "Negeri Sembilan\n",
      "NSN\n"
     ]
    },
    {
     "name": "stderr",
     "output_type": "stream",
     "text": [
      "C:\\Users\\ryeoh\\Anaconda3\\envs\\forwardSchool\\lib\\site-packages\\urllib3\\connectionpool.py:1013: InsecureRequestWarning: Unverified HTTPS request is being made to host 'publicinfobanjir.water.gov.my'. Adding certificate verification is strongly advised. See: https://urllib3.readthedocs.io/en/1.26.x/advanced-usage.html#ssl-warnings\n",
      "  warnings.warn(\n",
      "C:\\Users\\ryeoh\\Anaconda3\\envs\\forwardSchool\\lib\\site-packages\\urllib3\\connectionpool.py:1013: InsecureRequestWarning: Unverified HTTPS request is being made to host 'publicinfobanjir.water.gov.my'. Adding certificate verification is strongly advised. See: https://urllib3.readthedocs.io/en/1.26.x/advanced-usage.html#ssl-warnings\n",
      "  warnings.warn(\n"
     ]
    },
    {
     "name": "stdout",
     "output_type": "stream",
     "text": [
      "Melaka\n",
      "MLK\n",
      "Johor\n",
      "JHR\n"
     ]
    },
    {
     "name": "stderr",
     "output_type": "stream",
     "text": [
      "C:\\Users\\ryeoh\\Anaconda3\\envs\\forwardSchool\\lib\\site-packages\\urllib3\\connectionpool.py:1013: InsecureRequestWarning: Unverified HTTPS request is being made to host 'publicinfobanjir.water.gov.my'. Adding certificate verification is strongly advised. See: https://urllib3.readthedocs.io/en/1.26.x/advanced-usage.html#ssl-warnings\n",
      "  warnings.warn(\n",
      "C:\\Users\\ryeoh\\Anaconda3\\envs\\forwardSchool\\lib\\site-packages\\urllib3\\connectionpool.py:1013: InsecureRequestWarning: Unverified HTTPS request is being made to host 'publicinfobanjir.water.gov.my'. Adding certificate verification is strongly advised. See: https://urllib3.readthedocs.io/en/1.26.x/advanced-usage.html#ssl-warnings\n",
      "  warnings.warn(\n"
     ]
    },
    {
     "name": "stdout",
     "output_type": "stream",
     "text": [
      "Pahang\n",
      "PHG\n",
      "Terengganu\n",
      "TRG\n"
     ]
    },
    {
     "name": "stderr",
     "output_type": "stream",
     "text": [
      "C:\\Users\\ryeoh\\Anaconda3\\envs\\forwardSchool\\lib\\site-packages\\urllib3\\connectionpool.py:1013: InsecureRequestWarning: Unverified HTTPS request is being made to host 'publicinfobanjir.water.gov.my'. Adding certificate verification is strongly advised. See: https://urllib3.readthedocs.io/en/1.26.x/advanced-usage.html#ssl-warnings\n",
      "  warnings.warn(\n",
      "C:\\Users\\ryeoh\\Anaconda3\\envs\\forwardSchool\\lib\\site-packages\\urllib3\\connectionpool.py:1013: InsecureRequestWarning: Unverified HTTPS request is being made to host 'publicinfobanjir.water.gov.my'. Adding certificate verification is strongly advised. See: https://urllib3.readthedocs.io/en/1.26.x/advanced-usage.html#ssl-warnings\n",
      "  warnings.warn(\n"
     ]
    },
    {
     "name": "stdout",
     "output_type": "stream",
     "text": [
      "Kelantan\n",
      "KEL\n",
      "Sarawak\n",
      "SRK\n"
     ]
    },
    {
     "name": "stderr",
     "output_type": "stream",
     "text": [
      "C:\\Users\\ryeoh\\Anaconda3\\envs\\forwardSchool\\lib\\site-packages\\urllib3\\connectionpool.py:1013: InsecureRequestWarning: Unverified HTTPS request is being made to host 'publicinfobanjir.water.gov.my'. Adding certificate verification is strongly advised. See: https://urllib3.readthedocs.io/en/1.26.x/advanced-usage.html#ssl-warnings\n",
      "  warnings.warn(\n",
      "C:\\Users\\ryeoh\\Anaconda3\\envs\\forwardSchool\\lib\\site-packages\\urllib3\\connectionpool.py:1013: InsecureRequestWarning: Unverified HTTPS request is being made to host 'publicinfobanjir.water.gov.my'. Adding certificate verification is strongly advised. See: https://urllib3.readthedocs.io/en/1.26.x/advanced-usage.html#ssl-warnings\n",
      "  warnings.warn(\n"
     ]
    },
    {
     "name": "stdout",
     "output_type": "stream",
     "text": [
      "Sabah\n",
      "SAB\n",
      "Wilayah Persekutuan Labuan\n",
      "WLP\n"
     ]
    },
    {
     "name": "stderr",
     "output_type": "stream",
     "text": [
      "C:\\Users\\ryeoh\\Anaconda3\\envs\\forwardSchool\\lib\\site-packages\\urllib3\\connectionpool.py:1013: InsecureRequestWarning: Unverified HTTPS request is being made to host 'publicinfobanjir.water.gov.my'. Adding certificate verification is strongly advised. See: https://urllib3.readthedocs.io/en/1.26.x/advanced-usage.html#ssl-warnings\n",
      "  warnings.warn(\n",
      "C:\\Users\\ryeoh\\Anaconda3\\envs\\forwardSchool\\lib\\site-packages\\urllib3\\connectionpool.py:1013: InsecureRequestWarning: Unverified HTTPS request is being made to host 'publicinfobanjir.water.gov.my'. Adding certificate verification is strongly advised. See: https://urllib3.readthedocs.io/en/1.26.x/advanced-usage.html#ssl-warnings\n",
      "  warnings.warn(\n"
     ]
    }
   ],
   "source": [
    "url = r\"https://publicinfobanjir.water.gov.my/wp-content/themes/shapely/agency/searchresultrainfall.php\"\n",
    "language = r\"en\"\n",
    "dataAllStates = []\n",
    "\n",
    "\n",
    "for state, stateCode in statesDict.items():\n",
    "    print(state)\n",
    "    data = getStateRainFallData(url, stateCode, state, 'ALL', 'ALL')\n",
    "    dataAllStates = dataAllStates + data"
   ]
  },
  {
   "cell_type": "code",
   "execution_count": 30,
   "id": "f443dcc2",
   "metadata": {},
   "outputs": [
    {
     "data": {
      "text/html": [
       "<div>\n",
       "<style scoped>\n",
       "    .dataframe tbody tr th:only-of-type {\n",
       "        vertical-align: middle;\n",
       "    }\n",
       "\n",
       "    .dataframe tbody tr th {\n",
       "        vertical-align: top;\n",
       "    }\n",
       "\n",
       "    .dataframe thead th {\n",
       "        text-align: right;\n",
       "    }\n",
       "</style>\n",
       "<table border=\"1\" class=\"dataframe\">\n",
       "  <thead>\n",
       "    <tr style=\"text-align: right;\">\n",
       "      <th></th>\n",
       "      <th>stateCode</th>\n",
       "      <th>state</th>\n",
       "      <th>stationCode</th>\n",
       "      <th>station</th>\n",
       "      <th>district</th>\n",
       "      <th>date</th>\n",
       "      <th>rainfall</th>\n",
       "    </tr>\n",
       "  </thead>\n",
       "  <tbody>\n",
       "    <tr>\n",
       "      <th>0</th>\n",
       "      <td>PLS</td>\n",
       "      <td>Perlis</td>\n",
       "      <td>6602002</td>\n",
       "      <td>Kaki Bukit</td>\n",
       "      <td>Padang Besar</td>\n",
       "      <td>2022-01-05</td>\n",
       "      <td>0.0</td>\n",
       "    </tr>\n",
       "    <tr>\n",
       "      <th>1</th>\n",
       "      <td>PLS</td>\n",
       "      <td>Perlis</td>\n",
       "      <td>6602002</td>\n",
       "      <td>Kaki Bukit</td>\n",
       "      <td>Padang Besar</td>\n",
       "      <td>2022-01-06</td>\n",
       "      <td>0.0</td>\n",
       "    </tr>\n",
       "    <tr>\n",
       "      <th>2</th>\n",
       "      <td>PLS</td>\n",
       "      <td>Perlis</td>\n",
       "      <td>6602002</td>\n",
       "      <td>Kaki Bukit</td>\n",
       "      <td>Padang Besar</td>\n",
       "      <td>2022-01-07</td>\n",
       "      <td>0.0</td>\n",
       "    </tr>\n",
       "    <tr>\n",
       "      <th>3</th>\n",
       "      <td>PLS</td>\n",
       "      <td>Perlis</td>\n",
       "      <td>6602002</td>\n",
       "      <td>Kaki Bukit</td>\n",
       "      <td>Padang Besar</td>\n",
       "      <td>2022-01-08</td>\n",
       "      <td>0.0</td>\n",
       "    </tr>\n",
       "    <tr>\n",
       "      <th>4</th>\n",
       "      <td>PLS</td>\n",
       "      <td>Perlis</td>\n",
       "      <td>6602002</td>\n",
       "      <td>Kaki Bukit</td>\n",
       "      <td>Padang Besar</td>\n",
       "      <td>2022-01-09</td>\n",
       "      <td>0.0</td>\n",
       "    </tr>\n",
       "    <tr>\n",
       "      <th>...</th>\n",
       "      <td>...</td>\n",
       "      <td>...</td>\n",
       "      <td>...</td>\n",
       "      <td>...</td>\n",
       "      <td>...</td>\n",
       "      <td>...</td>\n",
       "      <td>...</td>\n",
       "    </tr>\n",
       "    <tr>\n",
       "      <th>5467</th>\n",
       "      <td>WLP</td>\n",
       "      <td>Wilayah Persekutuan Labuan</td>\n",
       "      <td>5351001</td>\n",
       "      <td>Sg. Lada</td>\n",
       "      <td>Labuan</td>\n",
       "      <td>2022-01-06</td>\n",
       "      <td>-9999.0</td>\n",
       "    </tr>\n",
       "    <tr>\n",
       "      <th>5468</th>\n",
       "      <td>WLP</td>\n",
       "      <td>Wilayah Persekutuan Labuan</td>\n",
       "      <td>5351001</td>\n",
       "      <td>Sg. Lada</td>\n",
       "      <td>Labuan</td>\n",
       "      <td>2022-01-07</td>\n",
       "      <td>-9999.0</td>\n",
       "    </tr>\n",
       "    <tr>\n",
       "      <th>5469</th>\n",
       "      <td>WLP</td>\n",
       "      <td>Wilayah Persekutuan Labuan</td>\n",
       "      <td>5351001</td>\n",
       "      <td>Sg. Lada</td>\n",
       "      <td>Labuan</td>\n",
       "      <td>2022-01-08</td>\n",
       "      <td>-9999.0</td>\n",
       "    </tr>\n",
       "    <tr>\n",
       "      <th>5470</th>\n",
       "      <td>WLP</td>\n",
       "      <td>Wilayah Persekutuan Labuan</td>\n",
       "      <td>5351001</td>\n",
       "      <td>Sg. Lada</td>\n",
       "      <td>Labuan</td>\n",
       "      <td>2022-01-09</td>\n",
       "      <td>-9999.0</td>\n",
       "    </tr>\n",
       "    <tr>\n",
       "      <th>5471</th>\n",
       "      <td>WLP</td>\n",
       "      <td>Wilayah Persekutuan Labuan</td>\n",
       "      <td>5351001</td>\n",
       "      <td>Sg. Lada</td>\n",
       "      <td>Labuan</td>\n",
       "      <td>2022-01-10</td>\n",
       "      <td>14.0</td>\n",
       "    </tr>\n",
       "  </tbody>\n",
       "</table>\n",
       "<p>5472 rows × 7 columns</p>\n",
       "</div>"
      ],
      "text/plain": [
       "     stateCode                       state stationCode     station  \\\n",
       "0          PLS                      Perlis     6602002  Kaki Bukit   \n",
       "1          PLS                      Perlis     6602002  Kaki Bukit   \n",
       "2          PLS                      Perlis     6602002  Kaki Bukit   \n",
       "3          PLS                      Perlis     6602002  Kaki Bukit   \n",
       "4          PLS                      Perlis     6602002  Kaki Bukit   \n",
       "...        ...                         ...         ...         ...   \n",
       "5467       WLP  Wilayah Persekutuan Labuan     5351001    Sg. Lada   \n",
       "5468       WLP  Wilayah Persekutuan Labuan     5351001    Sg. Lada   \n",
       "5469       WLP  Wilayah Persekutuan Labuan     5351001    Sg. Lada   \n",
       "5470       WLP  Wilayah Persekutuan Labuan     5351001    Sg. Lada   \n",
       "5471       WLP  Wilayah Persekutuan Labuan     5351001    Sg. Lada   \n",
       "\n",
       "          district       date rainfall  \n",
       "0     Padang Besar 2022-01-05      0.0  \n",
       "1     Padang Besar 2022-01-06      0.0  \n",
       "2     Padang Besar 2022-01-07      0.0  \n",
       "3     Padang Besar 2022-01-08      0.0  \n",
       "4     Padang Besar 2022-01-09      0.0  \n",
       "...            ...        ...      ...  \n",
       "5467        Labuan 2022-01-06  -9999.0  \n",
       "5468        Labuan 2022-01-07  -9999.0  \n",
       "5469        Labuan 2022-01-08  -9999.0  \n",
       "5470        Labuan 2022-01-09  -9999.0  \n",
       "5471        Labuan 2022-01-10     14.0  \n",
       "\n",
       "[5472 rows x 7 columns]"
      ]
     },
     "execution_count": 30,
     "metadata": {},
     "output_type": "execute_result"
    }
   ],
   "source": [
    "DF = pd.DataFrame(dataAllStates)\n",
    "DF"
   ]
  },
  {
   "cell_type": "markdown",
   "id": "2ed8c07d",
   "metadata": {},
   "source": [
    "# Save the obtained data"
   ]
  },
  {
   "cell_type": "code",
   "execution_count": null,
   "id": "14ee2829",
   "metadata": {},
   "outputs": [],
   "source": [
    "savePath = r\""
   ]
  }
 ],
 "metadata": {
  "kernelspec": {
   "display_name": "Python 3 (ipykernel)",
   "language": "python",
   "name": "python3"
  },
  "language_info": {
   "codemirror_mode": {
    "name": "ipython",
    "version": 3
   },
   "file_extension": ".py",
   "mimetype": "text/x-python",
   "name": "python",
   "nbconvert_exporter": "python",
   "pygments_lexer": "ipython3",
   "version": "3.9.7"
  }
 },
 "nbformat": 4,
 "nbformat_minor": 5
}
