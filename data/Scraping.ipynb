{
 "cells": [
  {
   "cell_type": "markdown",
   "id": "c7aadd0f",
   "metadata": {},
   "source": [
    "# Load libraries"
   ]
  },
  {
   "cell_type": "code",
   "execution_count": 5,
   "id": "8a973e53",
   "metadata": {},
   "outputs": [],
   "source": [
    "import pandas as pd\n",
    "from bs4 import BeautifulSoup\n",
    "import requests\n",
    "from datetime import datetime\n",
    "import matplotlib.pyplot as plt\n",
    "import numpy as np\n",
    "\n",
    "pd.set_option('display.max_rows', None)"
   ]
  },
  {
   "cell_type": "code",
   "execution_count": 6,
   "id": "80c5dd04",
   "metadata": {},
   "outputs": [
    {
     "name": "stderr",
     "output_type": "stream",
     "text": [
      "C:\\Users\\ryeoh\\Anaconda3\\envs\\forwardSchool\\lib\\site-packages\\urllib3\\connectionpool.py:1013: InsecureRequestWarning: Unverified HTTPS request is being made to host 'publicinfobanjir.water.gov.my'. Adding certificate verification is strongly advised. See: https://urllib3.readthedocs.io/en/1.26.x/advanced-usage.html#ssl-warnings\n",
      "  warnings.warn(\n"
     ]
    }
   ],
   "source": [
    "#get the data source to scrape\n",
    "url = r\"https://publicinfobanjir.water.gov.my/hujan/data-hujan/?lang=en\"\n",
    "webpage = requests.get(url, verify=False)"
   ]
  },
  {
   "cell_type": "markdown",
   "id": "bc3066e2",
   "metadata": {},
   "source": [
    "# Get States"
   ]
  },
  {
   "cell_type": "code",
   "execution_count": 7,
   "id": "2393a02d",
   "metadata": {},
   "outputs": [],
   "source": [
    "#Find all the states, and the options\n",
    "bs = BeautifulSoup(webpage.content, 'html.parser')\n",
    "states = bs.find('select', {'id':'state'}).find_all('option')\n",
    "statesDict = {}\n",
    "for state in states:\n",
    "    stateName = state.text.strip()\n",
    "    if stateName not in statesDict:\n",
    "        stateCode = state['value'].strip()\n",
    "        if stateCode == '':\n",
    "            continue\n",
    "        statesDict[stateName] = stateCode"
   ]
  },
  {
   "cell_type": "code",
   "execution_count": 8,
   "id": "efc00d3e",
   "metadata": {},
   "outputs": [
    {
     "name": "stdout",
     "output_type": "stream",
     "text": [
      "{'Perlis': 'PLS', 'Kedah': 'KDH', 'Pulau Pinang': 'PNG', 'Perak': 'PRK', 'Selangor': 'SEL', 'Wilayah Persekutuan Kuala Lumpur': 'WLH', 'Wilayah Persekutuan Putrajaya': 'PTJ', 'Negeri Sembilan': 'NSN', 'Melaka': 'MLK', 'Johor': 'JHR', 'Pahang': 'PHG', 'Terengganu': 'TRG', 'Kelantan': 'KEL', 'Sarawak': 'SRK', 'Sabah': 'SAB', 'Wilayah Persekutuan Labuan': 'WLP'}\n"
     ]
    }
   ],
   "source": [
    "print(statesDict)\n"
   ]
  },
  {
   "cell_type": "markdown",
   "id": "82183e85",
   "metadata": {},
   "source": [
    "# Get data of each state"
   ]
  },
  {
   "cell_type": "code",
   "execution_count": 9,
   "id": "e240ae71",
   "metadata": {},
   "outputs": [],
   "source": [
    "#function to scrape rainfall data\n",
    "def getStateRainFallData(url, stateCode, state, district, station):\n",
    "    print(stateCode)\n",
    "    #get the table from url\n",
    "    stateDataUrl = requests.get(url, params = {'state':stateCode, 'district':district, 'station':station}, verify= False)\n",
    "    bs = BeautifulSoup(stateDataUrl.content, 'html5lib')\n",
    "    #print(bs)\n",
    "\n",
    "    #get dates of recorded rainfall\n",
    "    tableHead = bs.find('thead').find_all('th', {'style':\"background-color:#aed9e5; color:black; padding:5px;\"})\n",
    "    rainfallDates = [*map(lambda x: x.text, tableHead)]\n",
    "    rainfallDates\n",
    "    rainfallDates = [*map(lambda x: datetime.strptime(x, r'%d/%m/%Y'), rainfallDates)]\n",
    "    \n",
    "    #get data for each station\n",
    "    dataEntries = bs.find('tbody').find_all('tr')\n",
    "    dataTable = []\n",
    "    \n",
    "    #get every row of data\n",
    "    for dataEntry in dataEntries:\n",
    "        if(len(dataEntry.contents)==0):\n",
    "            continue\n",
    "        cols = dataEntry.find_all('td')\n",
    "        \n",
    "        #format the data columns\n",
    "        stationCode = cols[1].text\n",
    "        station = cols[2].text\n",
    "        district = cols[3].text\n",
    "        dateStartCol = 5\n",
    "        dateEndCol = dateStartCol + len(rainfallDates)\n",
    "        \n",
    "        #get the data for each day in table\n",
    "        for dateEntry in range(len(rainfallDates)):\n",
    "            dataExtracted = {'stateCode': stateCode, 'state': state, 'stationCode': stationCode, 'station':station, 'district':district, 'date':rainfallDates[dateEntry], 'rainfall':cols[dateStartCol + dateEntry].text}\n",
    "            dataTable.append(dataExtracted)\n",
    "            \n",
    "    return dataTable\n",
    "        \n",
    "        \n",
    "    '''\n",
    "    for dataEntry in dataEntries:\n",
    "        cols = dataEntry.find_all('td')\n",
    "        print(cols)\n",
    "    '''\n",
    "    \n",
    "    \n",
    "    rainfallDates\n",
    "    #dataEntry = table.find('tbody')\n",
    "    #print(dataEntry)\n",
    "        "
   ]
  },
  {
   "cell_type": "code",
   "execution_count": 10,
   "id": "0b2b8f87",
   "metadata": {},
   "outputs": [
    {
     "name": "stdout",
     "output_type": "stream",
     "text": [
      "Perlis\n",
      "PLS\n",
      "Kedah\n",
      "KDH\n"
     ]
    },
    {
     "name": "stderr",
     "output_type": "stream",
     "text": [
      "C:\\Users\\ryeoh\\Anaconda3\\envs\\forwardSchool\\lib\\site-packages\\urllib3\\connectionpool.py:1013: InsecureRequestWarning: Unverified HTTPS request is being made to host 'publicinfobanjir.water.gov.my'. Adding certificate verification is strongly advised. See: https://urllib3.readthedocs.io/en/1.26.x/advanced-usage.html#ssl-warnings\n",
      "  warnings.warn(\n",
      "C:\\Users\\ryeoh\\Anaconda3\\envs\\forwardSchool\\lib\\site-packages\\urllib3\\connectionpool.py:1013: InsecureRequestWarning: Unverified HTTPS request is being made to host 'publicinfobanjir.water.gov.my'. Adding certificate verification is strongly advised. See: https://urllib3.readthedocs.io/en/1.26.x/advanced-usage.html#ssl-warnings\n",
      "  warnings.warn(\n"
     ]
    },
    {
     "name": "stdout",
     "output_type": "stream",
     "text": [
      "Pulau Pinang\n",
      "PNG\n",
      "Perak\n",
      "PRK\n"
     ]
    },
    {
     "name": "stderr",
     "output_type": "stream",
     "text": [
      "C:\\Users\\ryeoh\\Anaconda3\\envs\\forwardSchool\\lib\\site-packages\\urllib3\\connectionpool.py:1013: InsecureRequestWarning: Unverified HTTPS request is being made to host 'publicinfobanjir.water.gov.my'. Adding certificate verification is strongly advised. See: https://urllib3.readthedocs.io/en/1.26.x/advanced-usage.html#ssl-warnings\n",
      "  warnings.warn(\n",
      "C:\\Users\\ryeoh\\Anaconda3\\envs\\forwardSchool\\lib\\site-packages\\urllib3\\connectionpool.py:1013: InsecureRequestWarning: Unverified HTTPS request is being made to host 'publicinfobanjir.water.gov.my'. Adding certificate verification is strongly advised. See: https://urllib3.readthedocs.io/en/1.26.x/advanced-usage.html#ssl-warnings\n",
      "  warnings.warn(\n"
     ]
    },
    {
     "name": "stdout",
     "output_type": "stream",
     "text": [
      "Selangor\n",
      "SEL\n"
     ]
    },
    {
     "name": "stderr",
     "output_type": "stream",
     "text": [
      "C:\\Users\\ryeoh\\Anaconda3\\envs\\forwardSchool\\lib\\site-packages\\urllib3\\connectionpool.py:1013: InsecureRequestWarning: Unverified HTTPS request is being made to host 'publicinfobanjir.water.gov.my'. Adding certificate verification is strongly advised. See: https://urllib3.readthedocs.io/en/1.26.x/advanced-usage.html#ssl-warnings\n",
      "  warnings.warn(\n"
     ]
    },
    {
     "name": "stdout",
     "output_type": "stream",
     "text": [
      "Wilayah Persekutuan Kuala Lumpur\n",
      "WLH\n",
      "Wilayah Persekutuan Putrajaya\n",
      "PTJ\n"
     ]
    },
    {
     "name": "stderr",
     "output_type": "stream",
     "text": [
      "C:\\Users\\ryeoh\\Anaconda3\\envs\\forwardSchool\\lib\\site-packages\\urllib3\\connectionpool.py:1013: InsecureRequestWarning: Unverified HTTPS request is being made to host 'publicinfobanjir.water.gov.my'. Adding certificate verification is strongly advised. See: https://urllib3.readthedocs.io/en/1.26.x/advanced-usage.html#ssl-warnings\n",
      "  warnings.warn(\n",
      "C:\\Users\\ryeoh\\Anaconda3\\envs\\forwardSchool\\lib\\site-packages\\urllib3\\connectionpool.py:1013: InsecureRequestWarning: Unverified HTTPS request is being made to host 'publicinfobanjir.water.gov.my'. Adding certificate verification is strongly advised. See: https://urllib3.readthedocs.io/en/1.26.x/advanced-usage.html#ssl-warnings\n",
      "  warnings.warn(\n"
     ]
    },
    {
     "name": "stdout",
     "output_type": "stream",
     "text": [
      "Negeri Sembilan\n",
      "NSN\n",
      "Melaka\n",
      "MLK\n"
     ]
    },
    {
     "name": "stderr",
     "output_type": "stream",
     "text": [
      "C:\\Users\\ryeoh\\Anaconda3\\envs\\forwardSchool\\lib\\site-packages\\urllib3\\connectionpool.py:1013: InsecureRequestWarning: Unverified HTTPS request is being made to host 'publicinfobanjir.water.gov.my'. Adding certificate verification is strongly advised. See: https://urllib3.readthedocs.io/en/1.26.x/advanced-usage.html#ssl-warnings\n",
      "  warnings.warn(\n",
      "C:\\Users\\ryeoh\\Anaconda3\\envs\\forwardSchool\\lib\\site-packages\\urllib3\\connectionpool.py:1013: InsecureRequestWarning: Unverified HTTPS request is being made to host 'publicinfobanjir.water.gov.my'. Adding certificate verification is strongly advised. See: https://urllib3.readthedocs.io/en/1.26.x/advanced-usage.html#ssl-warnings\n",
      "  warnings.warn(\n"
     ]
    },
    {
     "name": "stdout",
     "output_type": "stream",
     "text": [
      "Johor\n",
      "JHR\n"
     ]
    },
    {
     "name": "stderr",
     "output_type": "stream",
     "text": [
      "C:\\Users\\ryeoh\\Anaconda3\\envs\\forwardSchool\\lib\\site-packages\\urllib3\\connectionpool.py:1013: InsecureRequestWarning: Unverified HTTPS request is being made to host 'publicinfobanjir.water.gov.my'. Adding certificate verification is strongly advised. See: https://urllib3.readthedocs.io/en/1.26.x/advanced-usage.html#ssl-warnings\n",
      "  warnings.warn(\n",
      "C:\\Users\\ryeoh\\Anaconda3\\envs\\forwardSchool\\lib\\site-packages\\urllib3\\connectionpool.py:1013: InsecureRequestWarning: Unverified HTTPS request is being made to host 'publicinfobanjir.water.gov.my'. Adding certificate verification is strongly advised. See: https://urllib3.readthedocs.io/en/1.26.x/advanced-usage.html#ssl-warnings\n",
      "  warnings.warn(\n",
      "C:\\Users\\ryeoh\\Anaconda3\\envs\\forwardSchool\\lib\\site-packages\\urllib3\\connectionpool.py:1013: InsecureRequestWarning: Unverified HTTPS request is being made to host 'publicinfobanjir.water.gov.my'. Adding certificate verification is strongly advised. See: https://urllib3.readthedocs.io/en/1.26.x/advanced-usage.html#ssl-warnings\n",
      "  warnings.warn(\n"
     ]
    },
    {
     "name": "stdout",
     "output_type": "stream",
     "text": [
      "Pahang\n",
      "PHG\n",
      "Terengganu\n",
      "TRG\n",
      "Kelantan\n",
      "KEL\n"
     ]
    },
    {
     "name": "stderr",
     "output_type": "stream",
     "text": [
      "C:\\Users\\ryeoh\\Anaconda3\\envs\\forwardSchool\\lib\\site-packages\\urllib3\\connectionpool.py:1013: InsecureRequestWarning: Unverified HTTPS request is being made to host 'publicinfobanjir.water.gov.my'. Adding certificate verification is strongly advised. See: https://urllib3.readthedocs.io/en/1.26.x/advanced-usage.html#ssl-warnings\n",
      "  warnings.warn(\n",
      "C:\\Users\\ryeoh\\Anaconda3\\envs\\forwardSchool\\lib\\site-packages\\urllib3\\connectionpool.py:1013: InsecureRequestWarning: Unverified HTTPS request is being made to host 'publicinfobanjir.water.gov.my'. Adding certificate verification is strongly advised. See: https://urllib3.readthedocs.io/en/1.26.x/advanced-usage.html#ssl-warnings\n",
      "  warnings.warn(\n"
     ]
    },
    {
     "name": "stdout",
     "output_type": "stream",
     "text": [
      "Sarawak\n",
      "SRK\n",
      "Sabah\n",
      "SAB\n",
      "Wilayah Persekutuan Labuan\n",
      "WLP\n"
     ]
    },
    {
     "name": "stderr",
     "output_type": "stream",
     "text": [
      "C:\\Users\\ryeoh\\Anaconda3\\envs\\forwardSchool\\lib\\site-packages\\urllib3\\connectionpool.py:1013: InsecureRequestWarning: Unverified HTTPS request is being made to host 'publicinfobanjir.water.gov.my'. Adding certificate verification is strongly advised. See: https://urllib3.readthedocs.io/en/1.26.x/advanced-usage.html#ssl-warnings\n",
      "  warnings.warn(\n",
      "C:\\Users\\ryeoh\\Anaconda3\\envs\\forwardSchool\\lib\\site-packages\\urllib3\\connectionpool.py:1013: InsecureRequestWarning: Unverified HTTPS request is being made to host 'publicinfobanjir.water.gov.my'. Adding certificate verification is strongly advised. See: https://urllib3.readthedocs.io/en/1.26.x/advanced-usage.html#ssl-warnings\n",
      "  warnings.warn(\n"
     ]
    }
   ],
   "source": [
    "url = r\"https://publicinfobanjir.water.gov.my/wp-content/themes/shapely/agency/searchresultrainfall.php\"\n",
    "language = r\"en\"\n",
    "dataAllStates = []\n",
    "\n",
    "\n",
    "for state, stateCode in statesDict.items():\n",
    "    print(state)\n",
    "    data = getStateRainFallData(url, stateCode, state, 'ALL', 'ALL')\n",
    "    dataAllStates = dataAllStates + data"
   ]
  },
  {
   "cell_type": "code",
   "execution_count": null,
   "id": "79014d0a",
   "metadata": {},
   "outputs": [],
   "source": [
    "DF = pd.DataFrame(dataAllStates)\n",
    "DF"
   ]
  },
  {
   "cell_type": "markdown",
   "id": "64adb67d",
   "metadata": {},
   "source": [
    "# Save the obtained data"
   ]
  },
  {
   "cell_type": "code",
   "execution_count": 12,
   "id": "e1410a80",
   "metadata": {},
   "outputs": [],
   "source": [
    "savePath = r\"C:\\Users\\ryeoh\\Project\\RainFallAnalysis\\data\\rainFallData.csv\"\n",
    "DF.to_csv(savePath)"
   ]
  },
  {
   "cell_type": "code",
   "execution_count": null,
   "id": "375f3ed7",
   "metadata": {},
   "outputs": [],
   "source": []
  },
  {
   "cell_type": "markdown",
   "id": "43b2ac39",
   "metadata": {},
   "source": [
    "# Data Manipulation"
   ]
  },
  {
   "cell_type": "code",
   "execution_count": null,
   "id": "f738f0ad",
   "metadata": {},
   "outputs": [],
   "source": [
    "#remove negative numbers from rainfall\n",
    "DF['rainfall'] = DF['rainfall'].replace('-', 0)\n",
    "DF['rainfall'] = DF['rainfall'].astype(float)\n",
    "DF['rainfall'].loc[DF['rainfall']<0] = 0\n"
   ]
  },
  {
   "cell_type": "markdown",
   "id": "5daf4330",
   "metadata": {},
   "source": [
    "# Weekly rainfall average"
   ]
  },
  {
   "cell_type": "code",
   "execution_count": 15,
   "id": "95fb18a6",
   "metadata": {},
   "outputs": [
    {
     "data": {
      "text/plain": [
       "Text(0.5, 1.0, 'Weekly rainfall average')"
      ]
     },
     "execution_count": 15,
     "metadata": {},
     "output_type": "execute_result"
    },
    {
     "data": {
      "image/png": "[encoded data removed]",
      "text/plain": [
       "<Figure size 432x288 with 1 Axes>"
      ]
     },
     "metadata": {
      "needs_background": "light"
     },
     "output_type": "display_data"
    }
   ],
   "source": [
    "DFTest = DF\n",
    "avg = DF.groupby('state')['rainfall'].mean().reset_index()\n",
    "avg.plot(x='state', y='rainfall', kind = 'bar')\n",
    "plt.ylabel('rainfall (mm)')\n",
    "plt.title('Weekly rainfall average')"
   ]
  },
  {
   "cell_type": "markdown",
   "id": "cbaf1807",
   "metadata": {},
   "source": [
    "### Deployment"
   ]
  },
  {
   "cell_type": "code",
   "execution_count": 16,
   "id": "7d7d2b46",
   "metadata": {},
   "outputs": [],
   "source": [
    "rainfaillAvgPath = r\"C:\\Users\\ryeoh\\Project\\RainFallAnalysis\\data\\rainFallavg_bystate_Data.csv\"\n",
    "DFRainfallByState = pd.read_csv(rainfaillAvgPath)\n",
    "RainFallByStateDict = {}\n",
    "statesList = []\n",
    "rainfallList = []\n",
    "for state in DFRainfallByState['state']:\n",
    "    #RainFallByStateDict[state] = DFRainfallByState[DFRainfallByState['state'] == state]['rainfall'].values[0]\n",
    "    statesList.append(state)\n",
    "    rainfallList.append(DFRainfallByState[DFRainfallByState['state'] == state]['rainfall'].values[0])\n",
    "#print(RainFallByStateDict)\n"
   ]
  },
  {
   "cell_type": "code",
   "execution_count": null,
   "id": "56fb8bb6",
   "metadata": {},
   "outputs": [],
   "source": []
  },
  {
   "cell_type": "markdown",
   "id": "950f61ee",
   "metadata": {},
   "source": [
    "# Rainfall trend across week"
   ]
  },
  {
   "cell_type": "code",
   "execution_count": 17,
   "id": "ba76478e",
   "metadata": {},
   "outputs": [
    {
     "data": {
      "text/plain": [
       "state\n",
       "Johor                               AxesSubplot(0.125,0.125;0.775x0.755)\n",
       "Kedah                               AxesSubplot(0.125,0.125;0.775x0.755)\n",
       "Kelantan                            AxesSubplot(0.125,0.125;0.775x0.755)\n",
       "Melaka                              AxesSubplot(0.125,0.125;0.775x0.755)\n",
       "Negeri Sembilan                     AxesSubplot(0.125,0.125;0.775x0.755)\n",
       "Pahang                              AxesSubplot(0.125,0.125;0.775x0.755)\n",
       "Perak                               AxesSubplot(0.125,0.125;0.775x0.755)\n",
       "Perlis                              AxesSubplot(0.125,0.125;0.775x0.755)\n",
       "Pulau Pinang                        AxesSubplot(0.125,0.125;0.775x0.755)\n",
       "Sabah                               AxesSubplot(0.125,0.125;0.775x0.755)\n",
       "Sarawak                             AxesSubplot(0.125,0.125;0.775x0.755)\n",
       "Selangor                            AxesSubplot(0.125,0.125;0.775x0.755)\n",
       "Terengganu                          AxesSubplot(0.125,0.125;0.775x0.755)\n",
       "Wilayah Persekutuan Kuala Lumpur    AxesSubplot(0.125,0.125;0.775x0.755)\n",
       "Wilayah Persekutuan Labuan          AxesSubplot(0.125,0.125;0.775x0.755)\n",
       "Wilayah Persekutuan Putrajaya       AxesSubplot(0.125,0.125;0.775x0.755)\n",
       "Name: rainfall, dtype: object"
      ]
     },
     "execution_count": 17,
     "metadata": {},
     "output_type": "execute_result"
    },
    {
     "data": {
      "image/png": "[encoded data removed]",
      "text/plain": [
       "<Figure size 432x288 with 1 Axes>"
      ]
     },
     "metadata": {
      "needs_background": "light"
     },
     "output_type": "display_data"
    }
   ],
   "source": [
    "DFDayTrend = DF.groupby(['state', 'date'])['rainfall'].mean().reset_index()\n",
    "DFDayTrend.set_index('date', inplace=True)\n",
    "DFDayTrend.groupby('state')['rainfall'].plot()"
   ]
  },
  {
   "cell_type": "code",
   "execution_count": 18,
   "id": "3c732c06",
   "metadata": {},
   "outputs": [],
   "source": [
    "rainfallAcrossWeekPath = r\"C:\\Users\\ryeoh\\Project\\RainFallAnalysis\\data\\rainFall_acrossweek_Data.csv\"\n",
    "DFDayTrend.to_csv(rainfallAcrossWeekPath)"
   ]
  },
  {
   "cell_type": "markdown",
   "id": "c27941b2",
   "metadata": {},
   "source": [
    "### Deployment"
   ]
  },
  {
   "cell_type": "code",
   "execution_count": 26,
   "id": "1c8eb037",
   "metadata": {},
   "outputs": [
    {
     "name": "stdout",
     "output_type": "stream",
     "text": [
      "[0.6456582633053222, 0.2462686567164179, 4.694444444444445, 0.0, 0.5218579234972678, 1.445273631840796, 3.352777777777778, 0.0, 1.0885416666666667, 4.681818181818182, 16.16736694677871, 2.70497311827957, 2.185606060606061, 1.8161764705882355, 17.739583333333332, 4.0, 1.9915254237288136, 1.3516949152542372, 0.3644067796610169, 0.0508474576271186, 0.1313559322033898, 0.0169491525423728, 1.9915254237288136, 1.3516949152542372, 0.3644067796610169, 0.0508474576271186, 0.1313559322033898, 0.0169491525423728, 1.9915254237288136, 1.3516949152542372, 0.3644067796610169, 0.0508474576271186, 0.1313559322033898, 0.0169491525423728]\n",
      "['2022-01-07', '2022-01-08', '2022-01-09', '2022-01-10', '2022-01-11', '2022-01-12']\n"
     ]
    }
   ],
   "source": [
    "rainfallAcrossWeekPath = r\"C:\\Users\\ryeoh\\Project\\RainFallAnalysis\\data\\rainFall_acrossweek_Data.csv\"\n",
    "DFDayTrend = pd.read_csv(rainfallAcrossWeekPath)\n",
    "#rainfallAcrossWeek = {}\n",
    "rainfallAcrossWeekList = []\n",
    "daysList = []\n",
    "\n",
    "groupedRainfallByState = DFDayTrend.groupby('state')\n",
    "'''\n",
    "for state in groupedRainfallByState.groups:\n",
    "    weeklyRainfallData = []\n",
    "    #print(groupedRainfallByState.get_group(state))\n",
    "    stateData = groupedRainfallByState.get_group(state)\n",
    "    for date in stateData.index:\n",
    "        weeklyRainfallData.append(stateData.loc[date]['rainfall'])\n",
    "    rainfallAcrossWeek[state] = weeklyRainfallData\n",
    "'''\n",
    "state = \"Johor\"\n",
    "stateData = groupedRainfallByState.get_group(state)\n",
    "for date in stateData.index:\n",
    "    #weeklyRainfallData.append(stateData.loc[date]['rainfall'])\n",
    "    rainfallList.append(stateData.loc[date]['rainfall'])\n",
    "    daysList.append(stateData.loc[date]['date'])\n",
    "#rainfallAcrossWeek[state] = weeklyRainfallData\n",
    "print(rainfallList)\n",
    "print(daysList)\n",
    "\n",
    "    "
   ]
  },
  {
   "cell_type": "code",
   "execution_count": null,
   "id": "2d58b04d",
   "metadata": {},
   "outputs": [],
   "source": [
    "\n"
   ]
  },
  {
   "cell_type": "code",
   "execution_count": 20,
   "id": "904d8ab9",
   "metadata": {},
   "outputs": [],
   "source": [
    "rainfaillAvgPath = r\"C:\\Users\\ryeoh\\Project\\RainFallAnalysis\\data\\rainFallavg_bystate_Data.csv\"\n",
    "avg.to_csv(rainfaillAvgPath)"
   ]
  },
  {
   "cell_type": "markdown",
   "id": "1118cfc9",
   "metadata": {},
   "source": [
    "# Rainfall across district\n"
   ]
  },
  {
   "cell_type": "code",
   "execution_count": 21,
   "id": "177b650d",
   "metadata": {},
   "outputs": [],
   "source": [
    "DFDistrict = DF.groupby(['state', 'district']).mean().reset_index()\n"
   ]
  },
  {
   "cell_type": "markdown",
   "id": "93ed16bd",
   "metadata": {},
   "source": [
    "### Deployment"
   ]
  },
  {
   "cell_type": "code",
   "execution_count": 22,
   "id": "ad0fb29a",
   "metadata": {},
   "outputs": [],
   "source": [
    "DFDistrictPath = r\"C:\\Users\\ryeoh\\Project\\RainFallAnalysis\\data\\rainFallavg_bydistrict_Data.csv\"\n",
    "DFDistrict.to_csv(DFDistrictPath)"
   ]
  },
  {
   "cell_type": "code",
   "execution_count": 23,
   "id": "a20c425e",
   "metadata": {},
   "outputs": [],
   "source": [
    "DFDistrictPath = r\"C:\\Users\\ryeoh\\Project\\RainFallAnalysis\\data\\rainFallavg_bydistrict_Data.csv\"\n",
    "DFDistrict = pd.read_csv(DFDistrictPath)\n"
   ]
  },
  {
   "cell_type": "code",
   "execution_count": null,
   "id": "5e0e3afb",
   "metadata": {},
   "outputs": [],
   "source": [
    "districts = DFDistrict[DFDistrict['state'] == state]['district'].unique()\n",
    "districtRainfall = {}\n",
    "districtList = []\n",
    "rainfallList = []\n",
    "for district in districts:\n",
    "    rainfallList.append(DFDistrict[DFDistrict['district'] == district]['rainfall'].values[0])\n",
    "    #districtRainfall[district] = DFDistrict[DFDistrict['district'] == district]['rainfall'].values[0]\n",
    "    districtList.append\n",
    "statesDistrictRainfall[state] = districtRainfall"
   ]
  },
  {
   "cell_type": "code",
   "execution_count": 24,
   "id": "c45e95f5",
   "metadata": {},
   "outputs": [
    {
     "ename": "TypeError",
     "evalue": "list indices must be integers or slices, not str",
     "output_type": "error",
     "traceback": [
      "\u001b[1;31m---------------------------------------------------------------------------\u001b[0m",
      "\u001b[1;31mTypeError\u001b[0m                                 Traceback (most recent call last)",
      "\u001b[1;32m~\\AppData\\Local\\Temp/ipykernel_21832/2683568813.py\u001b[0m in \u001b[0;36m<module>\u001b[1;34m\u001b[0m\n\u001b[0;32m      6\u001b[0m     \u001b[1;32mfor\u001b[0m \u001b[0mdistrict\u001b[0m \u001b[1;32min\u001b[0m \u001b[0mdistricts\u001b[0m\u001b[1;33m:\u001b[0m\u001b[1;33m\u001b[0m\u001b[1;33m\u001b[0m\u001b[0m\n\u001b[0;32m      7\u001b[0m         \u001b[0mdistrictRainfall\u001b[0m\u001b[1;33m[\u001b[0m\u001b[0mdistrict\u001b[0m\u001b[1;33m]\u001b[0m \u001b[1;33m=\u001b[0m \u001b[0mDFDistrict\u001b[0m\u001b[1;33m[\u001b[0m\u001b[0mDFDistrict\u001b[0m\u001b[1;33m[\u001b[0m\u001b[1;34m'district'\u001b[0m\u001b[1;33m]\u001b[0m \u001b[1;33m==\u001b[0m \u001b[0mdistrict\u001b[0m\u001b[1;33m]\u001b[0m\u001b[1;33m[\u001b[0m\u001b[1;34m'rainfall'\u001b[0m\u001b[1;33m]\u001b[0m\u001b[1;33m.\u001b[0m\u001b[0mvalues\u001b[0m\u001b[1;33m[\u001b[0m\u001b[1;36m0\u001b[0m\u001b[1;33m]\u001b[0m\u001b[1;33m\u001b[0m\u001b[1;33m\u001b[0m\u001b[0m\n\u001b[1;32m----> 8\u001b[1;33m     \u001b[0mstatesDistrictRainfall\u001b[0m\u001b[1;33m[\u001b[0m\u001b[0mstate\u001b[0m\u001b[1;33m]\u001b[0m \u001b[1;33m=\u001b[0m \u001b[0mdistrictRainfall\u001b[0m\u001b[1;33m\u001b[0m\u001b[1;33m\u001b[0m\u001b[0m\n\u001b[0m\u001b[0;32m      9\u001b[0m \u001b[1;33m\u001b[0m\u001b[0m\n\u001b[0;32m     10\u001b[0m \u001b[0mprint\u001b[0m\u001b[1;33m(\u001b[0m\u001b[0mstatesDistrictRainfall\u001b[0m\u001b[1;33m)\u001b[0m\u001b[1;33m\u001b[0m\u001b[1;33m\u001b[0m\u001b[0m\n",
      "\u001b[1;31mTypeError\u001b[0m: list indices must be integers or slices, not str"
     ]
    }
   ],
   "source": [
    "states = DFDistrict['state'].unique()\n",
    "statesDistrictRainfall = []\n",
    "for state in states:\n",
    "    districts = DFDistrict[DFDistrict['state'] == state]['district'].unique()\n",
    "    districtRainfall = {}\n",
    "    for district in districts:\n",
    "        districtRainfall[district] = DFDistrict[DFDistrict['district'] == district]['rainfall'].values[0]\n",
    "    statesDistrictRainfall[state] = districtRainfall\n",
    "\n",
    "print(statesDistrictRainfall)"
   ]
  },
  {
   "cell_type": "code",
   "execution_count": null,
   "id": "fe605060",
   "metadata": {},
   "outputs": [
    {
     "data": {
      "text/html": [
       "<div>\n",
       "<style scoped>\n",
       "    .dataframe tbody tr th:only-of-type {\n",
       "        vertical-align: middle;\n",
       "    }\n",
       "\n",
       "    .dataframe tbody tr th {\n",
       "        vertical-align: top;\n",
       "    }\n",
       "\n",
       "    .dataframe thead th {\n",
       "        text-align: right;\n",
       "    }\n",
       "</style>\n",
       "<table border=\"1\" class=\"dataframe\">\n",
       "  <thead>\n",
       "    <tr style=\"text-align: right;\">\n",
       "      <th></th>\n",
       "      <th>state</th>\n",
       "      <th>district</th>\n",
       "      <th>rainfall</th>\n",
       "    </tr>\n",
       "  </thead>\n",
       "  <tbody>\n",
       "    <tr>\n",
       "      <th>0</th>\n",
       "      <td>Johor</td>\n",
       "      <td>Batu Pahat</td>\n",
       "      <td>1.444444</td>\n",
       "    </tr>\n",
       "    <tr>\n",
       "      <th>1</th>\n",
       "      <td>Johor</td>\n",
       "      <td>Johor Bahru</td>\n",
       "      <td>1.347222</td>\n",
       "    </tr>\n",
       "    <tr>\n",
       "      <th>2</th>\n",
       "      <td>Johor</td>\n",
       "      <td>Kluang</td>\n",
       "      <td>0.375000</td>\n",
       "    </tr>\n",
       "    <tr>\n",
       "      <th>3</th>\n",
       "      <td>Johor</td>\n",
       "      <td>Kota Tinggi</td>\n",
       "      <td>0.175926</td>\n",
       "    </tr>\n",
       "    <tr>\n",
       "      <th>4</th>\n",
       "      <td>Johor</td>\n",
       "      <td>Kulai</td>\n",
       "      <td>0.619048</td>\n",
       "    </tr>\n",
       "  </tbody>\n",
       "</table>\n",
       "</div>"
      ],
      "text/plain": [
       "   state     district  rainfall\n",
       "0  Johor   Batu Pahat  1.444444\n",
       "1  Johor  Johor Bahru  1.347222\n",
       "2  Johor       Kluang  0.375000\n",
       "3  Johor  Kota Tinggi  0.175926\n",
       "4  Johor        Kulai  0.619048"
      ]
     },
     "execution_count": 29,
     "metadata": {},
     "output_type": "execute_result"
    }
   ],
   "source": [
    "DFDistrict.head()"
   ]
  }
 ],
 "metadata": {
  "kernelspec": {
   "display_name": "Python 3 (ipykernel)",
   "language": "python",
   "name": "python3"
  },
  "language_info": {
   "codemirror_mode": {
    "name": "ipython",
    "version": 3
   },
   "file_extension": ".py",
   "mimetype": "text/x-python",
   "name": "python",
   "nbconvert_exporter": "python",
   "pygments_lexer": "ipython3",
   "version": "3.9.7"
  }
 },
 "nbformat": 4,
 "nbformat_minor": 5
}
